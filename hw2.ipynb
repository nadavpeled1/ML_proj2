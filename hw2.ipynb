{
 "cells": [
  {
   "cell_type": "markdown",
   "metadata": {
    "nbgrader": {
     "grade": false,
     "grade_id": "cell-6bd0516e7cb654f5",
     "locked": true,
     "schema_version": 1,
     "solution": false
    }
   },
   "source": [
    "# Exercise 2: Decision Trees\n",
    "\n",
    "In this assignment you will implement a Decision Tree algorithm as learned in class.\n",
    "\n",
    "## Do not start the exercise until you fully understand the submission guidelines.\n",
    "\n",
    "* The homework assignments are executed automatically. \n",
    "* Failure to comply with the following instructions will result in a significant penalty. \n",
    "* Appeals regarding your failure to read these instructions will be denied. \n",
    "* Kindly reminder: the homework assignments contribute 50% of the final grade.\n",
    "\n",
    "## Read the following instructions carefully:\n",
    "\n",
    "1. This Jupyter notebook contains all the step-by-step instructions needed for this exercise.\n",
    "1. Write **efficient**, **vectorized** code whenever possible. Some calculations in this exercise may take several minutes when implemented efficiently, and might take much longer otherwise. Unnecessary loops will result in point deductions.\n",
    "1. You are responsible for the correctness of your code and should add as many tests as you see fit to this jupyter notebook. Tests will not be graded nor checked.\n",
    "1. Complete the required functions in `hw2.py` script only. This exercise is graded automatically, and only the `hw2.py` script is tested.\n",
    "1. You are allowed to use functions and methods from the [Python Standard Library](https://docs.python.org/3/library/), numpy and pandas only. **Do not import anything else.**\n",
    "1. Your code must run without errors. Use at least `numpy` 1.15.4. Any code that cannot run will not be graded.\n",
    "1. Write your own code. Cheating will not be tolerated.\n",
    "1. Submission includes a zip file that contains the `hw2.py` script as well as this notebook, with your ID as the file name. For example, `hw2_123456789_987654321.zip` if you submitted in pairs and `hw2_123456789.zip` if you submitted the exercise alone. \n",
    "\n",
    "Please use only a **zip** file in your submission.\n",
    "\n",
    "---\n",
    "---\n",
    "\n",
    "## Please sign that you have read and understood the instructions: \n",
    "\n",
    "### *** YOUR ID HERE ***\n",
    "\n",
    "---\n",
    "---"
   ]
  },
  {
   "cell_type": "markdown",
   "metadata": {},
   "source": [
    "# I have read and understood the instructions: *** YOUR ID HERE ***"
   ]
  },
  {
   "cell_type": "code",
   "execution_count": 1,
   "metadata": {
    "nbgrader": {
     "grade": false,
     "grade_id": "cell-ed9fe7b1026e33cb",
     "locked": true,
     "schema_version": 1,
     "solution": false
    },
    "ExecuteTime": {
     "end_time": "2024-04-26T20:19:18.131486200Z",
     "start_time": "2024-04-26T20:19:15.002255700Z"
    }
   },
   "outputs": [],
   "source": [
    "import numpy as np\n",
    "import pandas as pd\n",
    "import matplotlib.pyplot as plt\n",
    "\n",
    "# make the notebook automatically reload external python modules\n",
    "%load_ext autoreload\n",
    "%autoreload 2"
   ]
  },
  {
   "cell_type": "markdown",
   "metadata": {
    "nbgrader": {
     "grade": false,
     "grade_id": "cell-c6ac605270c2b091",
     "locked": true,
     "schema_version": 1,
     "solution": false
    }
   },
   "source": [
    "## Warmup - OOP in python\n",
    "\n",
    "Our desicion tree will be implemented using a dedicated python class. Python classes are very similar to classes in other object oriented programming languages you might be familiar with.\n",
    "\n",
    "\n",
    "You can use the following [site](https://jeffknupp.com/blog/2014/06/18/improve-your-python-python-classes-and-object-oriented-programming/) to learn about classes in python."
   ]
  },
  {
   "cell_type": "code",
   "execution_count": 2,
   "metadata": {
    "ExecuteTime": {
     "end_time": "2024-04-26T20:19:18.210274900Z",
     "start_time": "2024-04-26T20:19:18.136472600Z"
    }
   },
   "outputs": [],
   "source": [
    "class Node(object):\n",
    "    def __init__(self, data):\n",
    "        self.data = data\n",
    "        self.children = []\n",
    "\n",
    "    def add_child(self, node):\n",
    "        self.children.append(node)"
   ]
  },
  {
   "cell_type": "code",
   "execution_count": 3,
   "metadata": {
    "ExecuteTime": {
     "end_time": "2024-04-26T20:19:18.292060100Z",
     "start_time": "2024-04-26T20:19:18.213273300Z"
    }
   },
   "outputs": [
    {
     "data": {
      "text/plain": "[<__main__.Node at 0x213c91b9640>, <__main__.Node at 0x213da0c8850>]"
     },
     "execution_count": 3,
     "metadata": {},
     "output_type": "execute_result"
    }
   ],
   "source": [
    "n = Node(5)\n",
    "p = Node(6)\n",
    "q = Node(7)\n",
    "n.add_child(p)\n",
    "n.add_child(q)\n",
    "n.children"
   ]
  },
  {
   "cell_type": "markdown",
   "metadata": {
    "nbgrader": {
     "grade": false,
     "grade_id": "cell-2f1ceb251c649b62",
     "locked": true,
     "schema_version": 1,
     "solution": false
    }
   },
   "source": [
    "## Data preprocessing\n",
    "\n",
    "For the following exercise, we will use a dataset containing mushroom data `agaricus-lepiota.csv`. \n",
    "\n",
    "This data set includes descriptions of hypothetical samples corresponding to 23 species of gilled mushrooms in the Agaricus and Lepiota Family. Each species is identified as definitely edible, definitely poisonous, or of unknown edibility and not recommended. This latter class was combined with the poisonous\n",
    "one (=there are only two classes **edible** and **poisonous**). \n",
    "    \n",
    "The dataset contains 8124 observations with 21 features and the class:\n",
    "1. cap-shape: bell=b,conical=c,convex=x,flat=f,knobbed=k,sunken=s\n",
    "1. cap-surface: fibrous=f,grooves=g,scaly=y,smooth=s\n",
    "1. cap-color: brown=n,buff=b,cinnamon=c,gray=g,green=r,pink=p,purple=u,red=e,white=w,yellow=y\n",
    "1. bruises: bruises=t,no=f\n",
    "1. odor: almond=a,anise=l,creosote=c,fishy=y,foul=f, musty=m,none=n,pungent=p,spicy=s\n",
    "1. gill-attachment: attached=a,descending=d,free=f,notched=n\n",
    "1. gill-spacing: close=c,crowded=w,distant=d\n",
    "1. gill-size: broad=b,narrow=n\n",
    "1. gill-color: black=k,brown=n,buff=b,chocolate=h,gray=g,green=r,orange=o,pink=p,purple=u,red=e,white=w,yellow=y\n",
    "1. stalk-shape: enlarging=e,tapering=t\n",
    "1. stalk-surface-above-ring: fibrous=f,scaly=y,silky=k,smooth=s\n",
    "1. stalk-surface-below-ring: fibrous=f,scaly=y,silky=k,smooth=s\n",
    "1. stalk-color-above-ring: brown=n,buff=b,cinnamon=c,gray=g,orange=o,pink=p,red=e,white=w,yellow=y\n",
    "1. stalk-color-below-ring: brown=n,buff=b,cinnamon=c,gray=g,orange=o,pink=p,red=e,white=w,yellow=y\n",
    "1. veil-type: partial=p,universal=u\n",
    "1. veil-color: brown=n,orange=o,white=w,yellow=y\n",
    "1. ring-number: none=n,one=o,two=t\n",
    "1. ring-type: cobwebby=c,evanescent=e,flaring=f,large=l,none=n,pendant=p,sheathing=s,zone=z\n",
    "1. spore-print-color: black=k,brown=n,buff=b,chocolate=h,green=r,orange=o,purple=u,white=w,yellow=y\n",
    "1. population: abundant=a,clustered=c,numerous=n,scattered=s,several=v,solitary=y\n",
    "1. habitat: grasses=g,leaves=l,meadows=m,paths=p,urban=u,waste=w,woods=d\n",
    "\n",
    "First, we will read and explore the data using pandas and the `.read_csv` method. Pandas is an open source library providing high-performance, easy-to-use data structures and data analysis tools for the Python programming language."
   ]
  },
  {
   "cell_type": "code",
   "execution_count": 4,
   "metadata": {
    "nbgrader": {
     "grade": false,
     "grade_id": "cell-d79cb4542926ad3f",
     "locked": true,
     "schema_version": 1,
     "solution": false
    },
    "ExecuteTime": {
     "end_time": "2024-04-26T20:19:18.401763200Z",
     "start_time": "2024-04-26T20:19:18.294053800Z"
    }
   },
   "outputs": [
    {
     "data": {
      "text/plain": "     cap-shape cap-surface cap-color bruises odor gill-attachment  \\\n0            x           s         n       t    p               f   \n1            x           s         y       t    a               f   \n2            b           s         w       t    l               f   \n3            x           y         w       t    p               f   \n4            x           s         g       f    n               f   \n...        ...         ...       ...     ...  ...             ...   \n8119         k           s         n       f    n               a   \n8120         x           s         n       f    n               a   \n8121         f           s         n       f    n               a   \n8122         k           y         n       f    y               f   \n8123         x           s         n       f    n               a   \n\n     gill-spacing gill-size gill-color stalk-shape  ...  \\\n0               c         n          k           e  ...   \n1               c         b          k           e  ...   \n2               c         b          n           e  ...   \n3               c         n          n           e  ...   \n4               w         b          k           t  ...   \n...           ...       ...        ...         ...  ...   \n8119            c         b          y           e  ...   \n8120            c         b          y           e  ...   \n8121            c         b          n           e  ...   \n8122            c         n          b           t  ...   \n8123            c         b          y           e  ...   \n\n     stalk-color-above-ring stalk-color-below-ring veil-type veil-color  \\\n0                         w                      w         p          w   \n1                         w                      w         p          w   \n2                         w                      w         p          w   \n3                         w                      w         p          w   \n4                         w                      w         p          w   \n...                     ...                    ...       ...        ...   \n8119                      o                      o         p          o   \n8120                      o                      o         p          n   \n8121                      o                      o         p          o   \n8122                      w                      w         p          w   \n8123                      o                      o         p          o   \n\n     ring-number ring-type spore-print-color population habitat class  \n0              o         p                 k          s       u     p  \n1              o         p                 n          n       g     e  \n2              o         p                 n          n       m     e  \n3              o         p                 k          s       u     p  \n4              o         e                 n          a       g     e  \n...          ...       ...               ...        ...     ...   ...  \n8119           o         p                 b          c       l     e  \n8120           o         p                 b          v       l     e  \n8121           o         p                 b          c       l     e  \n8122           o         e                 w          v       l     p  \n8123           o         p                 o          c       l     p  \n\n[8124 rows x 22 columns]",
      "text/html": "<div>\n<style scoped>\n    .dataframe tbody tr th:only-of-type {\n        vertical-align: middle;\n    }\n\n    .dataframe tbody tr th {\n        vertical-align: top;\n    }\n\n    .dataframe thead th {\n        text-align: right;\n    }\n</style>\n<table border=\"1\" class=\"dataframe\">\n  <thead>\n    <tr style=\"text-align: right;\">\n      <th></th>\n      <th>cap-shape</th>\n      <th>cap-surface</th>\n      <th>cap-color</th>\n      <th>bruises</th>\n      <th>odor</th>\n      <th>gill-attachment</th>\n      <th>gill-spacing</th>\n      <th>gill-size</th>\n      <th>gill-color</th>\n      <th>stalk-shape</th>\n      <th>...</th>\n      <th>stalk-color-above-ring</th>\n      <th>stalk-color-below-ring</th>\n      <th>veil-type</th>\n      <th>veil-color</th>\n      <th>ring-number</th>\n      <th>ring-type</th>\n      <th>spore-print-color</th>\n      <th>population</th>\n      <th>habitat</th>\n      <th>class</th>\n    </tr>\n  </thead>\n  <tbody>\n    <tr>\n      <th>0</th>\n      <td>x</td>\n      <td>s</td>\n      <td>n</td>\n      <td>t</td>\n      <td>p</td>\n      <td>f</td>\n      <td>c</td>\n      <td>n</td>\n      <td>k</td>\n      <td>e</td>\n      <td>...</td>\n      <td>w</td>\n      <td>w</td>\n      <td>p</td>\n      <td>w</td>\n      <td>o</td>\n      <td>p</td>\n      <td>k</td>\n      <td>s</td>\n      <td>u</td>\n      <td>p</td>\n    </tr>\n    <tr>\n      <th>1</th>\n      <td>x</td>\n      <td>s</td>\n      <td>y</td>\n      <td>t</td>\n      <td>a</td>\n      <td>f</td>\n      <td>c</td>\n      <td>b</td>\n      <td>k</td>\n      <td>e</td>\n      <td>...</td>\n      <td>w</td>\n      <td>w</td>\n      <td>p</td>\n      <td>w</td>\n      <td>o</td>\n      <td>p</td>\n      <td>n</td>\n      <td>n</td>\n      <td>g</td>\n      <td>e</td>\n    </tr>\n    <tr>\n      <th>2</th>\n      <td>b</td>\n      <td>s</td>\n      <td>w</td>\n      <td>t</td>\n      <td>l</td>\n      <td>f</td>\n      <td>c</td>\n      <td>b</td>\n      <td>n</td>\n      <td>e</td>\n      <td>...</td>\n      <td>w</td>\n      <td>w</td>\n      <td>p</td>\n      <td>w</td>\n      <td>o</td>\n      <td>p</td>\n      <td>n</td>\n      <td>n</td>\n      <td>m</td>\n      <td>e</td>\n    </tr>\n    <tr>\n      <th>3</th>\n      <td>x</td>\n      <td>y</td>\n      <td>w</td>\n      <td>t</td>\n      <td>p</td>\n      <td>f</td>\n      <td>c</td>\n      <td>n</td>\n      <td>n</td>\n      <td>e</td>\n      <td>...</td>\n      <td>w</td>\n      <td>w</td>\n      <td>p</td>\n      <td>w</td>\n      <td>o</td>\n      <td>p</td>\n      <td>k</td>\n      <td>s</td>\n      <td>u</td>\n      <td>p</td>\n    </tr>\n    <tr>\n      <th>4</th>\n      <td>x</td>\n      <td>s</td>\n      <td>g</td>\n      <td>f</td>\n      <td>n</td>\n      <td>f</td>\n      <td>w</td>\n      <td>b</td>\n      <td>k</td>\n      <td>t</td>\n      <td>...</td>\n      <td>w</td>\n      <td>w</td>\n      <td>p</td>\n      <td>w</td>\n      <td>o</td>\n      <td>e</td>\n      <td>n</td>\n      <td>a</td>\n      <td>g</td>\n      <td>e</td>\n    </tr>\n    <tr>\n      <th>...</th>\n      <td>...</td>\n      <td>...</td>\n      <td>...</td>\n      <td>...</td>\n      <td>...</td>\n      <td>...</td>\n      <td>...</td>\n      <td>...</td>\n      <td>...</td>\n      <td>...</td>\n      <td>...</td>\n      <td>...</td>\n      <td>...</td>\n      <td>...</td>\n      <td>...</td>\n      <td>...</td>\n      <td>...</td>\n      <td>...</td>\n      <td>...</td>\n      <td>...</td>\n      <td>...</td>\n    </tr>\n    <tr>\n      <th>8119</th>\n      <td>k</td>\n      <td>s</td>\n      <td>n</td>\n      <td>f</td>\n      <td>n</td>\n      <td>a</td>\n      <td>c</td>\n      <td>b</td>\n      <td>y</td>\n      <td>e</td>\n      <td>...</td>\n      <td>o</td>\n      <td>o</td>\n      <td>p</td>\n      <td>o</td>\n      <td>o</td>\n      <td>p</td>\n      <td>b</td>\n      <td>c</td>\n      <td>l</td>\n      <td>e</td>\n    </tr>\n    <tr>\n      <th>8120</th>\n      <td>x</td>\n      <td>s</td>\n      <td>n</td>\n      <td>f</td>\n      <td>n</td>\n      <td>a</td>\n      <td>c</td>\n      <td>b</td>\n      <td>y</td>\n      <td>e</td>\n      <td>...</td>\n      <td>o</td>\n      <td>o</td>\n      <td>p</td>\n      <td>n</td>\n      <td>o</td>\n      <td>p</td>\n      <td>b</td>\n      <td>v</td>\n      <td>l</td>\n      <td>e</td>\n    </tr>\n    <tr>\n      <th>8121</th>\n      <td>f</td>\n      <td>s</td>\n      <td>n</td>\n      <td>f</td>\n      <td>n</td>\n      <td>a</td>\n      <td>c</td>\n      <td>b</td>\n      <td>n</td>\n      <td>e</td>\n      <td>...</td>\n      <td>o</td>\n      <td>o</td>\n      <td>p</td>\n      <td>o</td>\n      <td>o</td>\n      <td>p</td>\n      <td>b</td>\n      <td>c</td>\n      <td>l</td>\n      <td>e</td>\n    </tr>\n    <tr>\n      <th>8122</th>\n      <td>k</td>\n      <td>y</td>\n      <td>n</td>\n      <td>f</td>\n      <td>y</td>\n      <td>f</td>\n      <td>c</td>\n      <td>n</td>\n      <td>b</td>\n      <td>t</td>\n      <td>...</td>\n      <td>w</td>\n      <td>w</td>\n      <td>p</td>\n      <td>w</td>\n      <td>o</td>\n      <td>e</td>\n      <td>w</td>\n      <td>v</td>\n      <td>l</td>\n      <td>p</td>\n    </tr>\n    <tr>\n      <th>8123</th>\n      <td>x</td>\n      <td>s</td>\n      <td>n</td>\n      <td>f</td>\n      <td>n</td>\n      <td>a</td>\n      <td>c</td>\n      <td>b</td>\n      <td>y</td>\n      <td>e</td>\n      <td>...</td>\n      <td>o</td>\n      <td>o</td>\n      <td>p</td>\n      <td>o</td>\n      <td>o</td>\n      <td>p</td>\n      <td>o</td>\n      <td>c</td>\n      <td>l</td>\n      <td>p</td>\n    </tr>\n  </tbody>\n</table>\n<p>8124 rows × 22 columns</p>\n</div>"
     },
     "execution_count": 4,
     "metadata": {},
     "output_type": "execute_result"
    }
   ],
   "source": [
    "# load dataset\n",
    "data = pd.read_csv('agaricus-lepiota.csv')\n",
    "data"
   ]
  },
  {
   "cell_type": "markdown",
   "metadata": {},
   "source": [
    "One of the advantages of the Decision Tree algorithm is that almost no preprocessing is required. However, finding missing values is always required."
   ]
  },
  {
   "cell_type": "code",
   "execution_count": 5,
   "metadata": {
    "ExecuteTime": {
     "end_time": "2024-04-26T20:19:18.522709300Z",
     "start_time": "2024-04-26T20:19:18.400812300Z"
    }
   },
   "outputs": [],
   "source": [
    "data = data.dropna(axis=1)"
   ]
  },
  {
   "cell_type": "markdown",
   "metadata": {},
   "source": [
    "We will split the dataset to `training` and `validation` sets."
   ]
  },
  {
   "cell_type": "code",
   "execution_count": 6,
   "metadata": {
    "ExecuteTime": {
     "end_time": "2024-04-26T20:19:22.135984200Z",
     "start_time": "2024-04-26T20:19:18.497606100Z"
    }
   },
   "outputs": [
    {
     "name": "stdout",
     "output_type": "stream",
     "text": [
      "Training dataset shape:  (6093, 22)\n",
      "Validation dataset shape:  (2031, 22)\n"
     ]
    }
   ],
   "source": [
    "from sklearn.model_selection import train_test_split\n",
    "# Making sure the last column will hold the labels\n",
    "X, y = data.drop('class', axis=1), data['class']\n",
    "X = np.column_stack([X,y])\n",
    "# split dataset using random_state to get the same split each time\n",
    "X_train, X_validation = train_test_split(X, random_state=99)\n",
    "\n",
    "print(\"Training dataset shape: \", X_train.shape)\n",
    "print(\"Validation dataset shape: \", X_validation.shape)"
   ]
  },
  {
   "cell_type": "markdown",
   "metadata": {
    "nbgrader": {
     "grade": false,
     "grade_id": "cell-fd7b0191f3f1e897",
     "locked": true,
     "schema_version": 1,
     "solution": false
    }
   },
   "source": [
    "## Impurity Measures (10 points)\n",
    "\n",
    "Impurity is a measure of how often a randomly chosen element from the set would be incorrectly labeled if it was randomly labeled according to the distribution of labels in the subset. Implement the functions `calc_gini` and `calc_entropy` in `hw2.py`. You are encouraged to test your implementation according to the expected behavior of those measures as seen in class. (5 points each)"
   ]
  },
  {
   "cell_type": "code",
   "execution_count": 7,
   "metadata": {
    "ExecuteTime": {
     "end_time": "2024-04-26T20:19:22.227930800Z",
     "start_time": "2024-04-26T20:19:22.136982Z"
    }
   },
   "outputs": [],
   "source": [
    "from hw2 import calc_gini, calc_entropy"
   ]
  },
  {
   "cell_type": "code",
   "execution_count": 8,
   "metadata": {
    "scrolled": true,
    "ExecuteTime": {
     "end_time": "2024-04-26T20:19:22.338153200Z",
     "start_time": "2024-04-26T20:19:22.230443700Z"
    }
   },
   "outputs": [
    {
     "data": {
      "text/plain": "(0.4995636322379775, 0.9993703627906085)"
     },
     "execution_count": 8,
     "metadata": {},
     "output_type": "execute_result"
    }
   ],
   "source": [
    "##### Your tests here #####\n",
    "\n",
    "calc_gini(X), calc_entropy(X)"
   ]
  },
  {
   "cell_type": "markdown",
   "metadata": {},
   "source": [
    "## Building a Decision Tree \n",
    "\n",
    "### Implement the class `DecisionNode` in `hw2.py` (20 points)\n",
    "\n",
    "Use a Python class to construct the decision tree. Your class should support the following functionality:\n",
    "\n",
    "1. Initiating a node for a decision tree. You will need to use several class methods and class attributes that appear in `hw2.py`. \n",
    "1. Note the following attributes and methods for each node:\n",
    "    1. `self.data` holds the relevant data to split that node (ndarray).\n",
    "    1. `self.impurity_func` holds the impurity function to use for the node (func).\n",
    "    1. `self.feature` holds the best feature that splits the node (int).\n",
    "    1. `self.pred` holds the prediction of the entire node (string).\n",
    "    1. `self.depth` holds the depth of the node (int).\n",
    "    1. `self.children` holds the objects of the children of the node (list).\n",
    "    1. `self.children_values` holds the value of the feature associated with the children (list).\n",
    "    1. `self.terminal` determines if the node is a leaf (boolean).\n",
    "    1. `self.chi` holds the chi square value (int).\n",
    "    1. `self.max_depth` holds the maximum allowed depth of the entire tree (int).\n",
    "    1. `self.gain_ratio` determines if gain_ratio is used (boolean).\n",
    "    1. `self.feature_importance` holds the feature importance of the chosen feature.\n",
    "\n",
    "1. Your code should support both Gini and Entropy as impurity measures. \n",
    "1. The provided data includes categorical data. In this exercise, when splitting a node create the number of children needed according to the attribute unique values.\n",
    "1. Complete the class `DecisionNode`. Implementation details are up to you, but maintain the function signature and outputs. Make sure you are not changing the provided functions / variables we provided.\n",
    "1. Read below about goodness of split, to implement the relevant method. Make sure to test it\n",
    "1. You can create auxiliary functions, methods and variables."
   ]
  },
  {
   "cell_type": "markdown",
   "metadata": {},
   "source": [
    "### Goodness of Split (10 Points)\n",
    "\n",
    "Given some feature, the Goodnees of Split measures the reduction in the impurity if we split the data according to the feature.\n",
    "$$\n",
    "\\Delta\\varphi(S, A) = \\varphi(S) - \\sum_{v\\in Values(A)} \\frac{|S_v|}{|S|}\\varphi(S_v)\n",
    "$$\n",
    "\n",
    "In our implementation the goodness_of_split function will return either the Goodness of Split or the Gain Ratio as learned in class. You'll control the return value with the `gain_ratio` parameter. If this parameter will set to False (the default value) it will return the regular Goodness of Split. If it will set to True it will return the Gain Ratio.\n",
    "$$\n",
    "GainRatio(S,A)=\\frac{InformationGain(S,A)}{SplitInformation(S,A)}\n",
    "$$\n",
    "Where:\n",
    "$$\n",
    "InformationGain(S,A)=Goodness\\ of\\ Split\\ calculated\\ with\\ Entropy\\ as\\ the\\ Impurity\\ function \\\\\n",
    "SplitInformation(S,A)=- \\sum_{a\\in A} \\frac{|S_a|}{|S|}\\log\\frac{|S_a|}{|S|}\n",
    "$$\n",
    "\n",
    "Implement the method `goodness_of_split` in `DecisionNode` in `hw2.py`."
   ]
  },
  {
   "cell_type": "markdown",
   "metadata": {},
   "source": [
    "### Feture Importance (5 points) \n",
    "\n",
    "Feature importance (FI) is calculated as the decrease in node impurity weighted by the probability of reaching that node. The node probability can be calculated by the number of samples that reach the node, divided by the total number of samples. The higher the value the more important the feature.\n",
    "\n",
    "$$\n",
    "FI = \\frac{|S|}{|S_{total}|}\\varphi(S) - \\sum_{v\\in Values(A)} \\frac{|S_v|}{|S_{total}|}\\varphi(S_v)\n",
    "$$\n",
    "\n",
    "Note that:\n",
    "\n",
    "$$\n",
    "FI = \\frac{|S|}{|S_{total}|}\\Delta\\varphi(S, A)\n",
    "$$\n",
    "\n",
    "Implement the method `calc_feature_importance` in `DecisionNode` in `hw2.py`."
   ]
  },
  {
   "cell_type": "code",
   "execution_count": 9,
   "metadata": {
    "ExecuteTime": {
     "end_time": "2024-04-26T20:19:22.433055Z",
     "start_time": "2024-04-26T20:19:22.338153200Z"
    }
   },
   "outputs": [],
   "source": [
    "from hw2 import DecisionNode"
   ]
  },
  {
   "cell_type": "code",
   "execution_count": 10,
   "metadata": {
    "ExecuteTime": {
     "end_time": "2024-04-26T20:19:22.570851700Z",
     "start_time": "2024-04-26T20:19:22.436013700Z"
    }
   },
   "outputs": [
    {
     "data": {
      "text/plain": "(0.0199596578344422, 0.030727291723502415)"
     },
     "execution_count": 10,
     "metadata": {},
     "output_type": "execute_result"
    }
   ],
   "source": [
    "##### Your tests here #####\n",
    "\n",
    "# python support passing a function as arguments to another function.\n",
    "gini_node = DecisionNode(X, calc_gini)\n",
    "entropy_node = DecisionNode(X, calc_entropy)\n",
    "goodness_gini, split_values_gini = gini_node.goodness_of_split(0)\n",
    "goodness_entropy, split_values_entropy = entropy_node.goodness_of_split(0)\n",
    "\n",
    "goodness_gini, goodness_entropy"
   ]
  },
  {
   "cell_type": "markdown",
   "metadata": {},
   "source": [
    "### Implement the class `DecisionTree` in `hw2.py` (10 points)\n",
    "\n",
    "Use a Python class to hold the decision tree. Your class should support the following functionality:\n",
    "1. Build the tree from the root\n",
    "1. Predict a given instance (see below)\n",
    "1. Evaluate the accuracy of the tree (see below)\n",
    "1. Note the following attributes and methods for each node:\n",
    "    1. `self.data` holds the relevant data to split that node (ndarray).\n",
    "    1. `self.impurity_func` holds the impurity function to use for the node (func).\n",
    "    1. `self.chi` holds the chi square value (int).\n",
    "    1. `self.max_depth` holds the maximum allowed depth of the entire tree (int).\n",
    "    1. `self.gain_ratio` determines if gain_ratio is used (boolean).\n",
    "1. Complete the class `DecisionTree`. Implementation details are up to you, but maintain the function signature and outputs. Make sure you are not changing the provided functions / variables we provided.\n",
    "1. Don't forget to calculate the feature importance. You can calculate the feature importance for each node during the building or after.\n",
    "1. You can add functions to the class."
   ]
  },
  {
   "cell_type": "code",
   "execution_count": 11,
   "metadata": {
    "ExecuteTime": {
     "end_time": "2024-04-26T20:19:22.665585900Z",
     "start_time": "2024-04-26T20:19:22.570851700Z"
    }
   },
   "outputs": [],
   "source": [
    "from hw2 import DecisionTree"
   ]
  },
  {
   "cell_type": "code",
   "outputs": [],
   "source": [
    "##### Your tests here #####\n",
    "tree_gini = DecisionTree(data=X_train, impurity_func=calc_gini) # gini and goodness of split\n",
    "tree_gini.build_tree()\n",
    "\n",
    "tree_entropy = DecisionTree(data=X_train, impurity_func=calc_entropy) # entropy and goodness of split\n",
    "tree_entropy.build_tree()\n",
    "\n",
    "tree_entropy_gain_ratio = DecisionTree(data=X_train, impurity_func=calc_entropy, gain_ratio=True) # entropy and gain ratio\n",
    "tree_entropy_gain_ratio.build_tree()"
   ],
   "metadata": {
    "collapsed": false,
    "ExecuteTime": {
     "end_time": "2024-04-26T20:19:34.674094800Z",
     "start_time": "2024-04-26T20:19:22.666583200Z"
    }
   },
   "execution_count": 12
  },
  {
   "cell_type": "markdown",
   "metadata": {},
   "source": [
    "## Tree evaluation (10 points) \n",
    "\n",
    "Implement the methods `predict` and `calc_accuracy` in `DecisionTree` in `hw2.py`"
   ]
  },
  {
   "cell_type": "markdown",
   "metadata": {},
   "source": [
    "After building the three trees using the training set, you should calculate the accuracy on the validation set. For each tree print the training and validation accuracy. Select the tree that gave you the best validation accuracy. For the rest of the exercise, use that tree (when you asked to build another tree use the same impurity function and same gain_ratio flag). "
   ]
  },
  {
   "cell_type": "code",
   "execution_count": 13,
   "metadata": {
    "ExecuteTime": {
     "end_time": "2024-04-26T20:19:34.895525600Z",
     "start_time": "2024-04-26T20:19:34.677091400Z"
    }
   },
   "outputs": [
    {
     "name": "stdout",
     "output_type": "stream",
     "text": [
      "gini 0.9924503528639422 0.7749876907927129\n",
      "entropy 0.9940915805022157 0.7725258493353028\n",
      "entropy gain ratio 0.9963892991957984 0.7853274249138356\n"
     ]
    }
   ],
   "source": [
    "##### Your tests here #####\n",
    "\n",
    "print('gini', tree_gini.calc_accuracy(X_train), tree_gini.calc_accuracy(X_validation))\n",
    "print('entropy', tree_entropy.calc_accuracy(X_train), tree_entropy.calc_accuracy(X_validation))\n",
    "print('entropy gain ratio', tree_entropy_gain_ratio.calc_accuracy(X_train), \n",
    "      tree_entropy_gain_ratio.calc_accuracy(X_validation))"
   ]
  },
  {
   "cell_type": "markdown",
   "metadata": {},
   "source": [
    "## Depth pruning (5 points)\n",
    "\n",
    "In this part, we will investigate the effect the max depth of the tree has on the training and validation accuracies.\n",
    "\n",
    "For each max_depth value in the range [1, 2, 3, 4, 5, 6, 7, 8, 9, 10], construct a tree and prune it according to the max_depth value (don't let the tree to grow beyond this depth). Next, calculate the training and validation accuracy on the resulting trees. \n",
    "\n",
    "In order to debug and self-test your code, draw the training and validation accuracy as a function of the max_depth and verify that your results make sense. The red dot denotes the best model according to the validation accuracy.\n",
    "\n",
    "Implement the function `depth_pruning` in `hw2.py`."
   ]
  },
  {
   "cell_type": "code",
   "execution_count": 14,
   "metadata": {
    "ExecuteTime": {
     "end_time": "2024-04-26T20:19:50.964276400Z",
     "start_time": "2024-04-26T20:19:34.896526200Z"
    }
   },
   "outputs": [
    {
     "data": {
      "text/plain": "<Figure size 640x480 with 1 Axes>",
      "image/png": "[encoded data removed]"
     },
     "metadata": {},
     "output_type": "display_data"
    }
   ],
   "source": [
    "##### Your tests here #####\n",
    "from hw2 import depth_pruning\n",
    "depth_training_acc, depth_validation_acc = depth_pruning(X_train, X_validation)\n",
    "\n",
    "plt.plot(range(1, 11), depth_training_acc, label='Training')\n",
    "plt.plot(range(1, 11), depth_validation_acc, label='Validation')\n",
    "plt.scatter(np.argmax(depth_validation_acc)+1, max(depth_validation_acc), c='r')\n",
    "plt.legend();"
   ]
  },
  {
   "cell_type": "markdown",
   "metadata": {},
   "source": [
    "## Chi square pre-pruning (10 points)\n",
    "\n",
    "Consider the following p-value cut-off values: [1 (no pruning), 0.5, 0.25, 0.1, 0.05, 0.0001 (max pruning)]. For each value, construct a tree and prune it according to the cut-off value. Next, calculate the training and validation accuracy on the resulting trees. \n",
    "\n",
    "In order to debug and self-test your code, draw the training and validation accuracy as a function of the tuple (p-value, tree depth) and verify that your results make sense. The red dot denotes the best model according to the validation accuracy.\n",
    "\n",
    "Implement the function `chi_pruning` in `hw2.py`."
   ]
  },
  {
   "cell_type": "code",
   "execution_count": 15,
   "metadata": {
    "ExecuteTime": {
     "end_time": "2024-04-26T20:19:51.074497100Z",
     "start_time": "2024-04-26T20:19:50.964276400Z"
    }
   },
   "outputs": [],
   "source": [
    "from hw2 import chi_pruning"
   ]
  },
  {
   "cell_type": "code",
   "execution_count": 16,
   "metadata": {
    "ExecuteTime": {
     "end_time": "2024-04-26T20:20:05.458596400Z",
     "start_time": "2024-04-26T20:19:51.078540900Z"
    }
   },
   "outputs": [
    {
     "data": {
      "text/plain": "<Figure size 640x480 with 1 Axes>",
      "image/png": "[encoded data removed]"
     },
     "metadata": {},
     "output_type": "display_data"
    }
   ],
   "source": [
    "##### Your tests here #####\n",
    "\n",
    "chi_training_acc, chi_validation_acc, depth = chi_pruning(X_train, X_validation)\n",
    "\n",
    "chi_depth_tuple = [str((x, y)) for x, y in zip([1, 0.5, 0.25, 0.1, 0.05, 0.0001], depth)][::-1]\n",
    "plt.plot(chi_depth_tuple, chi_training_acc[::-1], label='Training')\n",
    "plt.plot(chi_depth_tuple, chi_validation_acc[::-1], label='Validation')\n",
    "plt.scatter(chi_depth_tuple[np.argmax(chi_validation_acc[::-1])], max(chi_validation_acc), c='r')\n",
    "plt.legend();"
   ]
  },
  {
   "cell_type": "markdown",
   "metadata": {},
   "source": [
    "Build the best 2 trees:\n",
    "1. tree_max_depth - the best tree according to max_depth pruning\n",
    "1. tree_chi - the best tree according to chi square pruning"
   ]
  },
  {
   "cell_type": "code",
   "execution_count": 22,
   "metadata": {
    "ExecuteTime": {
     "end_time": "2024-04-26T20:26:02.909403400Z",
     "start_time": "2024-04-26T20:22:24.416961100Z"
    }
   },
   "outputs": [
    {
     "ename": "KeyboardInterrupt",
     "evalue": "",
     "output_type": "error",
     "traceback": [
      "\u001B[1;31m---------------------------------------------------------------------------\u001B[0m",
      "\u001B[1;31mKeyboardInterrupt\u001B[0m                         Traceback (most recent call last)",
      "Cell \u001B[1;32mIn[22], line 7\u001B[0m\n\u001B[0;32m      5\u001B[0m tree_max_depth \u001B[38;5;241m=\u001B[39m DecisionTree(X_train, calc_entropy, max_depth\u001B[38;5;241m=\u001B[39mbest_depth, gain_ratio\u001B[38;5;241m=\u001B[39m\u001B[38;5;28;01mTrue\u001B[39;00m)\n\u001B[0;32m      6\u001B[0m tree_chi \u001B[38;5;241m=\u001B[39m DecisionTree(X_train, calc_entropy, gain_ratio\u001B[38;5;241m=\u001B[39m\u001B[38;5;28;01mTrue\u001B[39;00m, chi\u001B[38;5;241m=\u001B[39mbest_p_val)\n\u001B[1;32m----> 7\u001B[0m \u001B[43mtree_max_depth\u001B[49m\u001B[38;5;241;43m.\u001B[39;49m\u001B[43mbuild_tree\u001B[49m\u001B[43m(\u001B[49m\u001B[43m)\u001B[49m\n\u001B[0;32m      8\u001B[0m tree_chi\u001B[38;5;241m.\u001B[39mbuild_tree()\n",
      "File \u001B[1;32m~\\OneDrive\\מסמכים\\מסמכים ללימודים\\Machine learning from data\\hw2\\ML_proj2\\hw2.py:403\u001B[0m, in \u001B[0;36mDecisionTree.build_tree\u001B[1;34m(self)\u001B[0m\n\u001B[0;32m    400\u001B[0m     \u001B[38;5;28;01mfor\u001B[39;00m child \u001B[38;5;129;01min\u001B[39;00m current_node\u001B[38;5;241m.\u001B[39mchildren:\n\u001B[0;32m    401\u001B[0m         nodes_queue\u001B[38;5;241m.\u001B[39mappend(child)\n\u001B[1;32m--> 403\u001B[0m \u001B[38;5;28;43mself\u001B[39;49m\u001B[38;5;241;43m.\u001B[39;49m\u001B[43mcalculate_feature_importance\u001B[49m\u001B[43m(\u001B[49m\u001B[38;5;28;43mself\u001B[39;49m\u001B[38;5;241;43m.\u001B[39;49m\u001B[43mroot\u001B[49m\u001B[43m,\u001B[49m\u001B[43m \u001B[49m\u001B[38;5;28;43mself\u001B[39;49m\u001B[38;5;241;43m.\u001B[39;49m\u001B[43mroot\u001B[49m\u001B[38;5;241;43m.\u001B[39;49m\u001B[43mdata\u001B[49m\u001B[38;5;241;43m.\u001B[39;49m\u001B[43mshape\u001B[49m\u001B[43m[\u001B[49m\u001B[38;5;241;43m0\u001B[39;49m\u001B[43m]\u001B[49m\u001B[43m)\u001B[49m\n",
      "File \u001B[1;32m~\\OneDrive\\מסמכים\\מסמכים ללימודים\\Machine learning from data\\hw2\\ML_proj2\\hw2.py:421\u001B[0m, in \u001B[0;36mDecisionTree.calculate_feature_importance\u001B[1;34m(self, node, n_total_sample)\u001B[0m\n\u001B[0;32m    418\u001B[0m node\u001B[38;5;241m.\u001B[39mcalc_feature_importance(n_total_sample)\n\u001B[0;32m    420\u001B[0m \u001B[38;5;28;01mfor\u001B[39;00m child \u001B[38;5;129;01min\u001B[39;00m node\u001B[38;5;241m.\u001B[39mchildren:\n\u001B[1;32m--> 421\u001B[0m     \u001B[38;5;28;43mself\u001B[39;49m\u001B[38;5;241;43m.\u001B[39;49m\u001B[43mcalculate_feature_importance\u001B[49m\u001B[43m(\u001B[49m\u001B[43mchild\u001B[49m\u001B[43m,\u001B[49m\u001B[43m \u001B[49m\u001B[43mn_total_sample\u001B[49m\u001B[43m)\u001B[49m\n",
      "File \u001B[1;32m~\\OneDrive\\מסמכים\\מסמכים ללימודים\\Machine learning from data\\hw2\\ML_proj2\\hw2.py:418\u001B[0m, in \u001B[0;36mDecisionTree.calculate_feature_importance\u001B[1;34m(self, node, n_total_sample)\u001B[0m\n\u001B[0;32m    408\u001B[0m \u001B[38;5;28;01mdef\u001B[39;00m \u001B[38;5;21mcalculate_feature_importance\u001B[39m(\u001B[38;5;28mself\u001B[39m, node, n_total_sample):\n\u001B[0;32m    409\u001B[0m \u001B[38;5;250m    \u001B[39m\u001B[38;5;124;03m\"\"\"\u001B[39;00m\n\u001B[0;32m    410\u001B[0m \u001B[38;5;124;03m    Calculate recursively the feature importance of every node in the tree.\u001B[39;00m\n\u001B[0;32m    411\u001B[0m \n\u001B[1;32m   (...)\u001B[0m\n\u001B[0;32m    415\u001B[0m \u001B[38;5;124;03m    This function has no return value, it only assigns the appropriate FI to each node in the tree.\u001B[39;00m\n\u001B[0;32m    416\u001B[0m \u001B[38;5;124;03m    \"\"\"\u001B[39;00m\n\u001B[1;32m--> 418\u001B[0m     \u001B[43mnode\u001B[49m\u001B[38;5;241;43m.\u001B[39;49m\u001B[43mcalc_feature_importance\u001B[49m\u001B[43m(\u001B[49m\u001B[43mn_total_sample\u001B[49m\u001B[43m)\u001B[49m\n\u001B[0;32m    420\u001B[0m     \u001B[38;5;28;01mfor\u001B[39;00m child \u001B[38;5;129;01min\u001B[39;00m node\u001B[38;5;241m.\u001B[39mchildren:\n\u001B[0;32m    421\u001B[0m         \u001B[38;5;28mself\u001B[39m\u001B[38;5;241m.\u001B[39mcalculate_feature_importance(child, n_total_sample)\n",
      "File \u001B[1;32m~\\OneDrive\\מסמכים\\מסמכים ללימודים\\Machine learning from data\\hw2\\ML_proj2\\hw2.py:219\u001B[0m, in \u001B[0;36mDecisionNode.calc_feature_importance\u001B[1;34m(self, n_total_sample)\u001B[0m\n\u001B[0;32m    216\u001B[0m     sum__weighted_children_impurities \u001B[38;5;241m+\u001B[39m\u001B[38;5;241m=\u001B[39m \u001B[38;5;28mlen\u001B[39m(child\u001B[38;5;241m.\u001B[39mdata) \u001B[38;5;241m/\u001B[39m n_total_sample \u001B[38;5;241m*\u001B[39m child\u001B[38;5;241m.\u001B[39mimpurity_func(child\u001B[38;5;241m.\u001B[39mdata)\n\u001B[0;32m    218\u001B[0m \u001B[38;5;66;03m# calculate the feature importance\u001B[39;00m\n\u001B[1;32m--> 219\u001B[0m \u001B[38;5;28mself\u001B[39m\u001B[38;5;241m.\u001B[39mfeature_importance \u001B[38;5;241m=\u001B[39m prob_node \u001B[38;5;241m*\u001B[39m impurity_node \u001B[38;5;241m-\u001B[39m sum__weighted_children_impurities\n",
      "File \u001B[1;32m_pydevd_bundle\\pydevd_cython_win32_39_64.pyx:1187\u001B[0m, in \u001B[0;36m_pydevd_bundle.pydevd_cython_win32_39_64.SafeCallWrapper.__call__\u001B[1;34m()\u001B[0m\n",
      "File \u001B[1;32m_pydevd_bundle\\pydevd_cython_win32_39_64.pyx:627\u001B[0m, in \u001B[0;36m_pydevd_bundle.pydevd_cython_win32_39_64.PyDBFrame.trace_dispatch\u001B[1;34m()\u001B[0m\n",
      "File \u001B[1;32m_pydevd_bundle\\pydevd_cython_win32_39_64.pyx:1103\u001B[0m, in \u001B[0;36m_pydevd_bundle.pydevd_cython_win32_39_64.PyDBFrame.trace_dispatch\u001B[1;34m()\u001B[0m\n",
      "File \u001B[1;32m_pydevd_bundle\\pydevd_cython_win32_39_64.pyx:1096\u001B[0m, in \u001B[0;36m_pydevd_bundle.pydevd_cython_win32_39_64.PyDBFrame.trace_dispatch\u001B[1;34m()\u001B[0m\n",
      "File \u001B[1;32m_pydevd_bundle\\pydevd_cython_win32_39_64.pyx:585\u001B[0m, in \u001B[0;36m_pydevd_bundle.pydevd_cython_win32_39_64.PyDBFrame.do_wait_suspend\u001B[1;34m()\u001B[0m\n",
      "File \u001B[1;32mC:\\Program Files\\JetBrains\\PyCharm 2023.3.3\\plugins\\python\\helpers\\pydev\\pydevd.py:1184\u001B[0m, in \u001B[0;36mPyDB.do_wait_suspend\u001B[1;34m(self, thread, frame, event, arg, send_suspend_message, is_unhandled_exception)\u001B[0m\n\u001B[0;32m   1181\u001B[0m         from_this_thread\u001B[38;5;241m.\u001B[39mappend(frame_id)\n\u001B[0;32m   1183\u001B[0m \u001B[38;5;28;01mwith\u001B[39;00m \u001B[38;5;28mself\u001B[39m\u001B[38;5;241m.\u001B[39m_threads_suspended_single_notification\u001B[38;5;241m.\u001B[39mnotify_thread_suspended(thread_id, stop_reason):\n\u001B[1;32m-> 1184\u001B[0m     \u001B[38;5;28;43mself\u001B[39;49m\u001B[38;5;241;43m.\u001B[39;49m\u001B[43m_do_wait_suspend\u001B[49m\u001B[43m(\u001B[49m\u001B[43mthread\u001B[49m\u001B[43m,\u001B[49m\u001B[43m \u001B[49m\u001B[43mframe\u001B[49m\u001B[43m,\u001B[49m\u001B[43m \u001B[49m\u001B[43mevent\u001B[49m\u001B[43m,\u001B[49m\u001B[43m \u001B[49m\u001B[43marg\u001B[49m\u001B[43m,\u001B[49m\u001B[43m \u001B[49m\u001B[43msuspend_type\u001B[49m\u001B[43m,\u001B[49m\u001B[43m \u001B[49m\u001B[43mfrom_this_thread\u001B[49m\u001B[43m)\u001B[49m\n",
      "File \u001B[1;32mC:\\Program Files\\JetBrains\\PyCharm 2023.3.3\\plugins\\python\\helpers\\pydev\\pydevd.py:1199\u001B[0m, in \u001B[0;36mPyDB._do_wait_suspend\u001B[1;34m(self, thread, frame, event, arg, suspend_type, from_this_thread)\u001B[0m\n\u001B[0;32m   1196\u001B[0m             \u001B[38;5;28mself\u001B[39m\u001B[38;5;241m.\u001B[39m_call_mpl_hook()\n\u001B[0;32m   1198\u001B[0m         \u001B[38;5;28mself\u001B[39m\u001B[38;5;241m.\u001B[39mprocess_internal_commands()\n\u001B[1;32m-> 1199\u001B[0m         \u001B[43mtime\u001B[49m\u001B[38;5;241;43m.\u001B[39;49m\u001B[43msleep\u001B[49m\u001B[43m(\u001B[49m\u001B[38;5;241;43m0.01\u001B[39;49m\u001B[43m)\u001B[49m\n\u001B[0;32m   1201\u001B[0m \u001B[38;5;28mself\u001B[39m\u001B[38;5;241m.\u001B[39mcancel_async_evaluation(get_current_thread_id(thread), \u001B[38;5;28mstr\u001B[39m(\u001B[38;5;28mid\u001B[39m(frame)))\n\u001B[0;32m   1203\u001B[0m \u001B[38;5;66;03m# process any stepping instructions\u001B[39;00m\n",
      "\u001B[1;31mKeyboardInterrupt\u001B[0m: "
     ]
    }
   ],
   "source": [
    "best_depth = np.argmax(depth_validation_acc)\n",
    "p_val = [1, 0.5, 0.25, 0.1, 0.05, 0.0001]\n",
    "best_p_val_index = np.argmax(chi_validation_acc)\n",
    "best_p_val = p_val[best_p_val_index]\n",
    "tree_max_depth = DecisionTree(X_train, calc_entropy, max_depth=best_depth, gain_ratio=True)\n",
    "tree_chi = DecisionTree(X_train, calc_entropy, gain_ratio=True, chi=best_p_val)\n",
    "tree_max_depth.build_tree()\n",
    "tree_chi.build_tree()"
   ]
  },
  {
   "cell_type": "markdown",
   "metadata": {},
   "source": [
    "## Number of Nodes (5 points) \n",
    "\n",
    "Of the two trees above we will choose the one with fewer nodes.\n",
    "\n",
    "Complete the function counts_nodes and print the number of nodes in each tree\n",
    "\n",
    "Implement the function `count_nodes` in `hw2.py`."
   ]
  },
  {
   "cell_type": "code",
   "execution_count": 18,
   "metadata": {
    "ExecuteTime": {
     "end_time": "2024-04-26T20:20:19.004413100Z",
     "start_time": "2024-04-26T20:20:18.915946100Z"
    }
   },
   "outputs": [],
   "source": [
    "from hw2 import count_nodes"
   ]
  },
  {
   "cell_type": "code",
   "execution_count": 19,
   "metadata": {
    "ExecuteTime": {
     "end_time": "2024-04-26T20:20:19.671350600Z",
     "start_time": "2024-04-26T20:20:19.573226800Z"
    }
   },
   "outputs": [
    {
     "name": "stdout",
     "output_type": "stream",
     "text": [
      "52\n",
      "39\n"
     ]
    }
   ],
   "source": [
    "##### Your tests here #####\n",
    "print(count_nodes(tree_max_depth.root))\n",
    "print(count_nodes(tree_chi.root))"
   ]
  },
  {
   "cell_type": "markdown",
   "metadata": {},
   "source": [
    "## Print the tree\n",
    "\n",
    "We provided you with a function that should print your tree for your own debugging purposes. \n",
    "\n",
    "This code prints:\n",
    "```\n",
    "[ROOT, feature=X0, importance=?],\n",
    "  [X0=a, feature=X2, importance=?]\n",
    "    [X2=c, leaf]: [{1.0: 10}]\n",
    "    [X2=d, leaf]: [{0.0: 10}]\n",
    "  [X0=y, feature=X5, importance=?], \n",
    "       [X5=a, leaf]: [{1.0: 5}]\n",
    "       [X5=s, leaf]: [{0.0: 10}]\n",
    "  [X0=e, leaf]: [{0.0: 25, 1.0: 50}]\n",
    "```"
   ]
  },
  {
   "cell_type": "code",
   "execution_count": 20,
   "metadata": {
    "ExecuteTime": {
     "end_time": "2024-04-26T20:20:23.931619400Z",
     "start_time": "2024-04-26T20:20:23.832376200Z"
    }
   },
   "outputs": [],
   "source": [
    "def print_tree(node, depth=0, parent_feature='ROOT', feature_val='ROOT'):\n",
    "    '''\n",
    "    prints the tree according to the example above\n",
    "\n",
    "    Input:\n",
    "    - node: a node in the decision tree\n",
    "\n",
    "    This function has no return value\n",
    "    '''\n",
    "    if node.terminal == False:\n",
    "        if node.depth == 0:\n",
    "            print('[ROOT, feature=X{}, importance={:.3f}]'.format(node.feature, node.feature_importance))\n",
    "        else:\n",
    "            print('{}[X{}={}, feature=X{}, importance={:.3f}], Depth: {}'.format(depth*'  ', parent_feature, \n",
    "                                                                             feature_val, node.feature, \n",
    "                                                                             node.feature_importance, node.depth))\n",
    "        for i, child in enumerate(node.children):\n",
    "            print_tree(child, depth+1, node.feature, node.children_values[i])\n",
    "    else:\n",
    "        classes_count = {}\n",
    "        labels, counts = np.unique(node.data[:, -1], return_counts=True)\n",
    "        for l, c in zip(labels, counts):\n",
    "            classes_count[l] = c\n",
    "        print('{}[X{}={}, leaf]: [{}], Depth: {}'.format(depth*'  ', parent_feature, feature_val,\n",
    "                                                         classes_count, node.depth))"
   ]
  },
  {
   "cell_type": "code",
   "execution_count": 21,
   "metadata": {
    "ExecuteTime": {
     "end_time": "2024-04-26T20:20:25.709697800Z",
     "start_time": "2024-04-26T20:20:25.593036200Z"
    }
   },
   "outputs": [
    {
     "name": "stdout",
     "output_type": "stream",
     "text": [
      "[ROOT, feature=X4, importance=0.498]\n",
      "  [X4=a, leaf]: [{'e': 273, 'p': 31}], Depth: 1\n",
      "  [X4=c, leaf]: [{'e': 10, 'p': 137}], Depth: 1\n",
      "  [X4=f, feature=X10, importance=0.001], Depth: 1\n",
      "    [X10=f, feature=X2, importance=0.001], Depth: 2\n",
      "      [X2=b, leaf]: [{'e': 8, 'p': 30}], Depth: 3\n",
      "      [X2=g, leaf]: [{'e': 5, 'p': 26}], Depth: 3\n",
      "      [X2=w, leaf]: [{'e': 1, 'p': 35}], Depth: 3\n",
      "    [X10=k, leaf]: [{'e': 134, 'p': 1037}], Depth: 2\n",
      "    [X10=s, leaf]: [{'e': 22, 'p': 310}], Depth: 2\n",
      "  [X4=l, feature=X1, importance=0.001], Depth: 1\n",
      "    [X1=f, leaf]: [{'e': 19, 'p': 1}], Depth: 2\n",
      "    [X1=s, leaf]: [{'e': 94, 'p': 16}], Depth: 2\n",
      "    [X1=y, leaf]: [{'e': 159, 'p': 10}], Depth: 2\n",
      "  [X4=m, leaf]: [{'e': 2, 'p': 25}], Depth: 1\n",
      "  [X4=n, feature=X7, importance=0.005], Depth: 1\n",
      "    [X7=b, feature=X18, importance=0.020], Depth: 2\n",
      "      [X18=b, leaf]: [{'e': 34, 'p': 2}], Depth: 3\n",
      "      [X18=k, leaf]: [{'e': 843, 'p': 93}], Depth: 3\n",
      "      [X18=n, leaf]: [{'e': 882, 'p': 105}], Depth: 3\n",
      "      [X18=o, feature=X19, importance=0.001], Depth: 3\n",
      "        [X19=c, leaf]: [{'e': 12, 'p': 4}], Depth: 4\n",
      "        [X19=v, leaf]: [{'e': 16}], Depth: 4\n",
      "      [X18=r, leaf]: [{'e': 6, 'p': 46}], Depth: 3\n",
      "      [X18=w, leaf]: [{'e': 369, 'p': 33}], Depth: 3\n",
      "      [X18=y, leaf]: [{'e': 35, 'p': 3}], Depth: 3\n",
      "    [X7=n, feature=X3, importance=0.002], Depth: 2\n",
      "      [X3=f, feature=X10, importance=0.012], Depth: 3\n",
      "        [X10=f, leaf]: [{'e': 17, 'p': 3}], Depth: 4\n",
      "        [X10=k, leaf]: [{'p': 25}], Depth: 4\n",
      "        [X10=s, feature=X2, importance=0.002], Depth: 4\n",
      "          [X2=c, leaf]: [{'e': 10}], Depth: 5\n",
      "          [X2=g, leaf]: [{'e': 36, 'p': 1}], Depth: 5\n",
      "          [X2=n, leaf]: [{'e': 37, 'p': 9}], Depth: 5\n",
      "          [X2=r, leaf]: [{'e': 9, 'p': 4}], Depth: 5\n",
      "          [X2=u, leaf]: [{'e': 14}], Depth: 5\n",
      "          [X2=w, leaf]: [{'e': 12, 'p': 1}], Depth: 5\n",
      "        [X10=y, leaf]: [{'p': 7}], Depth: 4\n",
      "      [X3=t, leaf]: [{'p': 8}], Depth: 3\n",
      "  [X4=p, feature=X0, importance=0.001], Depth: 1\n",
      "    [X0=f, feature=X18, importance=0.000], Depth: 2\n",
      "      [X18=k, leaf]: [{'e': 6, 'p': 43}], Depth: 3\n",
      "      [X18=n, leaf]: [{'e': 1, 'p': 43}], Depth: 3\n",
      "    [X0=x, leaf]: [{'e': 1, 'p': 89}], Depth: 2\n",
      "  [X4=s, feature=X13, importance=0.001], Depth: 1\n",
      "    [X13=p, leaf]: [{'e': 12, 'p': 190}], Depth: 2\n",
      "    [X13=w, feature=X12, importance=0.001], Depth: 2\n",
      "      [X12=p, leaf]: [{'e': 18, 'p': 88}], Depth: 3\n",
      "      [X12=w, feature=X0, importance=0.001], Depth: 3\n",
      "        [X0=f, leaf]: [{'p': 38}], Depth: 4\n",
      "        [X0=k, leaf]: [{'e': 3, 'p': 30}], Depth: 4\n",
      "        [X0=x, leaf]: [{'e': 5, 'p': 34}], Depth: 4\n",
      "  [X4=y, feature=X1, importance=0.000], Depth: 1\n",
      "    [X1=s, leaf]: [{'e': 18, 'p': 194}], Depth: 2\n",
      "    [X1=y, leaf]: [{'e': 31, 'p': 188}], Depth: 2\n"
     ]
    }
   ],
   "source": [
    "print_tree(tree_chi.root)"
   ]
  },
  {
   "cell_type": "code",
   "outputs": [],
   "source": [],
   "metadata": {
    "collapsed": false
   }
  }
 ],
 "metadata": {
  "celltoolbar": "Create Assignment",
  "kernelspec": {
   "display_name": "Python 3 (ipykernel)",
   "language": "python",
   "name": "python3"
  },
  "language_info": {
   "codemirror_mode": {
    "name": "ipython",
    "version": 3
   },
   "file_extension": ".py",
   "mimetype": "text/x-python",
   "name": "python",
   "nbconvert_exporter": "python",
   "pygments_lexer": "ipython3",
   "version": "3.11.4"
  }
 },
 "nbformat": 4,
 "nbformat_minor": 4
}
